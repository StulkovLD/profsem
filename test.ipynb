{
 "cells": [
  {
   "metadata": {},
   "cell_type": "markdown",
   "source": "# Импорт библиотек",
   "id": "f1111cd09da5ca71"
  },
  {
   "cell_type": "code",
   "id": "initial_id",
   "metadata": {
    "collapsed": true
   },
   "source": [
    "import os\n",
    "import numpy as np\n",
    "import matplotlib.pyplot as plt\n",
    "from tensorflow.keras.preprocessing.image import ImageDataGenerator\n",
    "from tensorflow.keras.applications import ResNet50\n",
    "from tensorflow.keras.models import Sequential\n",
    "from tensorflow.keras.layers import Dense, GlobalAveragePooling2D\n",
    "from tensorflow.keras.optimizers import Adam\n",
    "from tensorflow.keras.callbacks import EarlyStopping, ModelCheckpoint"
   ],
   "outputs": [],
   "execution_count": null
  },
  {
   "metadata": {},
   "cell_type": "markdown",
   "source": "# Загрузка и предобработка данных",
   "id": "1a859d23d53cbdf3"
  },
  {
   "metadata": {},
   "cell_type": "code",
   "source": [
    "# Укажите путь к вашим данным\n",
    "data_dir = 'stanford dogs dataset/images/Images'\n",
    "\n",
    "# Настройки генератора изображений\n",
    "datagen = ImageDataGenerator(\n",
    "    rescale=1./255,\n",
    "    validation_split=0.2,\n",
    "    horizontal_flip=True,\n",
    "    rotation_range=20,\n",
    "    zoom_range=0.2\n",
    ")\n",
    "\n",
    "# Генератор тренировочных данных\n",
    "train_generator = datagen.flow_from_directory(\n",
    "    data_dir,\n",
    "    target_size=(224, 224),\n",
    "    batch_size=32,\n",
    "    class_mode='categorical',\n",
    "    subset='training'\n",
    ")\n",
    "\n",
    "# Генератор валидационных данных\n",
    "val_generator = datagen.flow_from_directory(\n",
    "    data_dir,\n",
    "    target_size=(224, 224),\n",
    "    batch_size=32,\n",
    "    class_mode='categorical',\n",
    "    subset='validation'\n",
    ")"
   ],
   "id": "8575d9d34d9ebbd",
   "outputs": [],
   "execution_count": null
  },
  {
   "metadata": {},
   "cell_type": "markdown",
   "source": "# Создание и компиляция модели",
   "id": "8513c34a67f5d359"
  },
  {
   "metadata": {},
   "cell_type": "code",
   "source": [
    "# Загрузка предобученной модели ResNet50 без верхнего слоя\n",
    "base_model = ResNet50(weights='imagenet', include_top=False, input_shape=(224, 224, 3))\n",
    "\n",
    "# Создание модели\n",
    "model = Sequential([\n",
    "    base_model,\n",
    "    GlobalAveragePooling2D(),\n",
    "    Dense(256, activation='relu'),\n",
    "    Dense(len(train_generator.class_indices), activation='softmax')\n",
    "])\n",
    "\n",
    "# Компиляция модели\n",
    "model.compile(optimizer=Adam(learning_rate=0.0001), loss='categorical_crossentropy', metrics=['accuracy'])"
   ],
   "id": "ce02e5afc3c60d3f",
   "outputs": [],
   "execution_count": null
  },
  {
   "metadata": {},
   "cell_type": "markdown",
   "source": "# Обучение модели",
   "id": "a10c4e8a2001d5ab"
  },
  {
   "metadata": {},
   "cell_type": "code",
   "source": [
    "# Настройки для сохранения лучшей модели и ранней остановки\n",
    "checkpoint = ModelCheckpoint('best_model.keras', monitor='val_loss', save_best_only=True, mode='min')\n",
    "early_stop = EarlyStopping(monitor='val_loss', patience=10, restore_best_weights=True)\n",
    "\n",
    "# Обучение модели\n",
    "history = model.fit(\n",
    "    train_generator,\n",
    "    validation_data=val_generator,\n",
    "    epochs=50,\n",
    "    callbacks=[checkpoint, early_stop]\n",
    ")"
   ],
   "id": "55be28b17a896295",
   "outputs": [],
   "execution_count": null
  },
  {
   "metadata": {},
   "cell_type": "markdown",
   "source": "Оценка модели",
   "id": "3157c034e14633ad"
  },
  {
   "metadata": {},
   "cell_type": "code",
   "source": [
    "# Графики точности и потерь\n",
    "plt.figure(figsize=(12, 4))\n",
    "plt.subplot(1, 2, 1)\n",
    "plt.plot(history.history['accuracy'], label='train_accuracy')\n",
    "plt.plot(history.history['val_accuracy'], label='val_accuracy')\n",
    "plt.legend()\n",
    "plt.title('Accuracy')\n",
    "\n",
    "plt.subplot(1, 2, 2)\n",
    "plt.plot(history.history['loss'], label='train_loss')\n",
    "plt.plot(history.history['val_loss'], label='val_loss')\n",
    "plt.legend()\n",
    "plt.title('Loss')\n",
    "plt.show()"
   ],
   "id": "d8565d987a09b87d",
   "outputs": [],
   "execution_count": null
  },
  {
   "metadata": {},
   "cell_type": "markdown",
   "source": "# Тестирование модели на новых данных",
   "id": "c6bf862225040a5e"
  },
  {
   "metadata": {},
   "cell_type": "code",
   "source": [
    "# Пример тестирования модели на новых данных\n",
    "test_image_path = 'Спаниель.png'\n",
    "test_image = tf.keras.preprocessing.image.load_img(test_image_path, target_size=(224, 224))\n",
    "test_image = tf.keras.preprocessing.image.img_to_array(test_image) / 255.0\n",
    "test_image = np.expand_dims(test_image, axis=0)\n",
    "\n",
    "# Предсказание породы\n",
    "prediction = model.predict(test_image)\n",
    "predicted_class = np.argmax(prediction, axis=1)\n",
    "print(f'Predicted class: {predicted_class}')"
   ],
   "id": "d8978447f8c9eda6",
   "outputs": [],
   "execution_count": null
  }
 ],
 "metadata": {
  "kernelspec": {
   "display_name": "Python 3",
   "language": "python",
   "name": "python3"
  },
  "language_info": {
   "codemirror_mode": {
    "name": "ipython",
    "version": 2
   },
   "file_extension": ".py",
   "mimetype": "text/x-python",
   "name": "python",
   "nbconvert_exporter": "python",
   "pygments_lexer": "ipython2",
   "version": "2.7.6"
  }
 },
 "nbformat": 4,
 "nbformat_minor": 5
}
